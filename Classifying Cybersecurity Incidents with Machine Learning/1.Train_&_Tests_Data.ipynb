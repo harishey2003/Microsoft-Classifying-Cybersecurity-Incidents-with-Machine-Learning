{
 "cells": [
  {
   "cell_type": "markdown",
   "id": "959e1a33",
   "metadata": {},
   "source": [
    "# Train Data"
   ]
  },
  {
   "cell_type": "code",
   "execution_count": 1,
   "id": "691ae571",
   "metadata": {},
   "outputs": [],
   "source": [
    "import pandas as pd"
   ]
  },
  {
   "cell_type": "code",
   "execution_count": 2,
   "id": "64e11f5b",
   "metadata": {},
   "outputs": [
    {
     "name": "stdout",
     "output_type": "stream",
     "text": [
      "Saved 100000 rows to New_train_cybersecurity.csv.\n"
     ]
    }
   ],
   "source": [
    "large_file_path = r\"C:\\Users\\Lenovo\\Downloads\\GUIDE_Train.csv.zip\"\n",
    "output_file_path = \"New_train_cybersecurity.csv\"\n",
    "\n",
    "# Initializing an empty DataFrame to store the rows\n",
    "rows_to_keep = pd.DataFrame()\n",
    "\n",
    "# Reading the dataset in chunks of 100,000 rows\n",
    "chunk_size = 100000\n",
    "rows_needed = 100000\n",
    "rows_collected = 0\n",
    "\n",
    "for chunk in pd.read_csv(large_file_path, chunksize=chunk_size):\n",
    "    if rows_collected < rows_needed:\n",
    "        # Calculate remaining rows needed\n",
    "        rows_to_add = rows_needed - rows_collected\n",
    "        if len(chunk) <= rows_to_add:\n",
    "            rows_to_keep = pd.concat([rows_to_keep, chunk])\n",
    "            rows_collected += len(chunk)\n",
    "        else:\n",
    "            rows_to_keep = pd.concat([rows_to_keep, chunk.iloc[:rows_to_add]])\n",
    "            rows_collected += rows_to_add\n",
    "    else:\n",
    "        break\n",
    "\n",
    "#saving the collected rows in csv file\n",
    "rows_to_keep.to_csv(output_file_path, index=False)\n",
    "print(f\"Saved {rows_collected} rows to {output_file_path}.\")"
   ]
  },
  {
   "cell_type": "markdown",
   "id": "dc0828b8",
   "metadata": {},
   "source": [
    "# Test Data"
   ]
  },
  {
   "cell_type": "code",
   "execution_count": 3,
   "id": "6d32b7cc",
   "metadata": {},
   "outputs": [
    {
     "name": "stdout",
     "output_type": "stream",
     "text": [
      "Saved 100000 rows to New_test_cybersecurity.csv.\n"
     ]
    }
   ],
   "source": [
    "large_file_path = r\"C:\\Users\\Lenovo\\Downloads\\GUIDE_Test.csv.zip\"\n",
    "output_file_path = \"New_test_cybersecurity.csv\"\n",
    "\n",
    "rows_to_keep = pd.DataFrame()\n",
    "\n",
    "chunk_size = 100000\n",
    "rows_needed = 100000\n",
    "rows_collected = 0\n",
    "\n",
    "for chunk in pd.read_csv(large_file_path, chunksize=chunk_size):\n",
    "    if rows_collected < rows_needed:\n",
    "        # Calculate remaining rows needed\n",
    "        rows_to_add = rows_needed - rows_collected\n",
    "        if len(chunk) <= rows_to_add:\n",
    "            rows_to_keep = pd.concat([rows_to_keep, chunk])\n",
    "            rows_collected += len(chunk)\n",
    "        else:\n",
    "            rows_to_keep = pd.concat([rows_to_keep, chunk.iloc[:rows_to_add]])\n",
    "            rows_collected += rows_to_add\n",
    "    else:\n",
    "        break\n",
    "\n",
    "rows_to_keep.to_csv(output_file_path, index=False)\n",
    "print(f\"Saved {rows_collected} rows to {output_file_path}.\")"
   ]
  }
 ],
 "metadata": {
  "kernelspec": {
   "display_name": "Python 3 (ipykernel)",
   "language": "python",
   "name": "python3"
  },
  "language_info": {
   "codemirror_mode": {
    "name": "ipython",
    "version": 3
   },
   "file_extension": ".py",
   "mimetype": "text/x-python",
   "name": "python",
   "nbconvert_exporter": "python",
   "pygments_lexer": "ipython3",
   "version": "3.9.12"
  }
 },
 "nbformat": 4,
 "nbformat_minor": 5
}
