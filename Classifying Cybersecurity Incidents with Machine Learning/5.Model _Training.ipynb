{
 "cells": [
  {
   "cell_type": "code",
   "execution_count": 1,
   "id": "fffa8b41",
   "metadata": {},
   "outputs": [],
   "source": [
    "import joblib\n",
    "import numpy as np\n",
    "from sklearn.linear_model import LogisticRegression\n",
    "from sklearn.tree import DecisionTreeClassifier\n",
    "from sklearn.ensemble import RandomForestClassifier, GradientBoostingClassifier\n",
    "from sklearn.svm import SVC\n",
    "from sklearn.neighbors import KNeighborsClassifier\n",
    "from sklearn.metrics import accuracy_score\n",
    "from sklearn.model_selection import train_test_split\n",
    "from sklearn.metrics import classification_report, f1_score, precision_score, recall_score\n",
    "from sklearn.model_selection import RandomizedSearchCV"
   ]
  },
  {
   "cell_type": "markdown",
   "id": "9dcc240e",
   "metadata": {},
   "source": [
    "# 1.Loading the Train,Test Datasets"
   ]
  },
  {
   "cell_type": "code",
   "execution_count": 2,
   "id": "43f39781",
   "metadata": {},
   "outputs": [],
   "source": [
    "train_data = joblib.load(r\"C:\\Users\\Lenovo\\project 4\\Encoded_Train_Data.joblib\")\n",
    "test_data = joblib.load(r\"C:\\Users\\Lenovo\\project 4\\Encoded_Test_Data.joblib\")"
   ]
  },
  {
   "cell_type": "markdown",
   "id": "318c5a03",
   "metadata": {},
   "source": [
    "# 2.Spliting"
   ]
  },
  {
   "cell_type": "code",
   "execution_count": 3,
   "id": "80ed99c1",
   "metadata": {},
   "outputs": [
    {
     "name": "stdout",
     "output_type": "stream",
     "text": [
      "Training Features Shape: (34600, 79)\n",
      "Training Target Shape: (34600,)\n",
      "Test Features Shape: (34494, 79)\n",
      "Test Target Shape: (34494,)\n"
     ]
    }
   ],
   "source": [
    "# Defining the target column from the data\n",
    "target_column = 'IncidentGrade'\n",
    "\n",
    "#spliting train data\n",
    "X_train = train_data.drop(columns=[target_column])\n",
    "y_train = train_data[target_column]\n",
    "\n",
    "#spliting test data\n",
    "X_test = test_data.drop(columns=[target_column])\n",
    "y_test = test_data[target_column]\n",
    "\n",
    "#shapes of the data\n",
    "print(f\"Training Features Shape: {X_train.shape}\")\n",
    "print(f\"Training Target Shape: {y_train.shape}\")\n",
    "print(f\"Test Features Shape: {X_test.shape}\")\n",
    "print(f\"Test Target Shape: {y_test.shape}\")"
   ]
  },
  {
   "cell_type": "markdown",
   "id": "f9d93ab8",
   "metadata": {},
   "source": [
    "# 3.Model Training"
   ]
  },
  {
   "cell_type": "code",
   "execution_count": 4,
   "id": "92659624",
   "metadata": {},
   "outputs": [
    {
     "name": "stdout",
     "output_type": "stream",
     "text": [
      "Logistic Regression Accuracy: 0.6509\n",
      "Decision Tree Accuracy: 0.6743\n",
      "Random Forest Accuracy: 0.6756\n",
      "Gradient Boosting Accuracy: 0.6712\n",
      "SVM Accuracy: 0.6952\n",
      "KNN Accuracy: 0.6694\n",
      "\n",
      "Best Model: SVM with Accuracy: 0.6952\n"
     ]
    }
   ],
   "source": [
    "#spliting train data further into training and validation sets\n",
    "X_train, X_val, y_train, y_val = train_test_split(X_train, y_train, test_size=0.2, random_state=42)\n",
    "\n",
    "models = {\n",
    "    \"Logistic Regression\": LogisticRegression(max_iter=1000),\n",
    "    \"Decision Tree\": DecisionTreeClassifier(),\n",
    "    \"Random Forest\": RandomForestClassifier(),\n",
    "    \"Gradient Boosting\": GradientBoostingClassifier(),\n",
    "    \"SVM\": SVC(),\n",
    "    \"KNN\": KNeighborsClassifier()\n",
    "}\n",
    "\n",
    "# Train and evaluate each model\n",
    "model_accuracies = {}\n",
    "\n",
    "for model_name, model in models.items():\n",
    "    model.fit(X_train, y_train)\n",
    "    y_val_pred = model.predict(X_val)\n",
    "    accuracy = accuracy_score(y_val, y_val_pred)\n",
    "    model_accuracies[model_name] = accuracy\n",
    "    print(f\"{model_name} Accuracy: {accuracy:.4f}\")\n",
    "\n",
    "# Identifing the best model\n",
    "best_model_name = max(model_accuracies, key=model_accuracies.get)\n",
    "print(f\"\\nBest Model: {best_model_name} with Accuracy: {model_accuracies[best_model_name]:.4f}\")"
   ]
  },
  {
   "cell_type": "markdown",
   "id": "c48c00c2",
   "metadata": {},
   "source": [
    "# 3.1.Saving the Best Model using Joblib"
   ]
  },
  {
   "cell_type": "code",
   "execution_count": 5,
   "id": "75935c31",
   "metadata": {},
   "outputs": [
    {
     "name": "stdout",
     "output_type": "stream",
     "text": [
      "Best model saved as SVM_Model.joblib\n"
     ]
    }
   ],
   "source": [
    "best_model = models[best_model_name]\n",
    "joblib.dump(best_model, f\"{best_model_name}_Model.joblib\")\n",
    "print(f\"Best model saved as {best_model_name}_Model.joblib\")"
   ]
  },
  {
   "cell_type": "markdown",
   "id": "bbf6764d",
   "metadata": {},
   "source": [
    "# 4.Loading the saved SVM model"
   ]
  },
  {
   "cell_type": "code",
   "execution_count": 6,
   "id": "f8cc0bd4",
   "metadata": {},
   "outputs": [],
   "source": [
    "SVM_model = joblib.load('SVM_Model.joblib')"
   ]
  },
  {
   "cell_type": "markdown",
   "id": "e5553fc4",
   "metadata": {},
   "source": [
    "# 5.Evaluate Performance on Validation Set"
   ]
  },
  {
   "cell_type": "code",
   "execution_count": 7,
   "id": "9f297e2c",
   "metadata": {},
   "outputs": [
    {
     "name": "stdout",
     "output_type": "stream",
     "text": [
      "Classification Report:\n",
      "              precision    recall  f1-score   support\n",
      "\n",
      "          TP       0.65      0.91      0.76      3014\n",
      "          BP       0.69      0.39      0.50      1430\n",
      "          FP       0.79      0.61      0.69      2476\n",
      "\n",
      "    accuracy                           0.70      6920\n",
      "   macro avg       0.71      0.64      0.65      6920\n",
      "weighted avg       0.71      0.70      0.68      6920\n",
      "\n",
      "Macro-F1 Score: 0.6486822902053254\n",
      "Precision: 0.7110703560222132\n",
      "Recall: 0.6363493704743425\n"
     ]
    }
   ],
   "source": [
    "# Predict on validation data\n",
    "val_predictions = SVM_model.predict(X_val)\n",
    "\n",
    "#creating performance metrics\n",
    "print(\"Classification Report:\")\n",
    "print(classification_report(y_val, val_predictions, target_names=['TP', 'BP', 'FP']))\n",
    "\n",
    "#calculating the individual metrics\n",
    "macro_f1 = f1_score(y_val, val_predictions, average='macro')\n",
    "precision = precision_score(y_val, val_predictions, average='macro')\n",
    "recall = recall_score(y_val, val_predictions, average='macro')\n",
    "\n",
    "print(f\"Macro-F1 Score: {macro_f1}\")\n",
    "print(f\"Precision: {precision}\")\n",
    "print(f\"Recall: {recall}\")"
   ]
  },
  {
   "cell_type": "markdown",
   "id": "603df215",
   "metadata": {},
   "source": [
    "# 6.Hyperparameter Tuning using RandomizedSearchCV"
   ]
  },
  {
   "cell_type": "code",
   "execution_count": 8,
   "id": "42081d75",
   "metadata": {},
   "outputs": [
    {
     "name": "stdout",
     "output_type": "stream",
     "text": [
      "Fitting 3 folds for each of 20 candidates, totalling 60 fits\n",
      "Best Parameters: {'kernel': 'rbf', 'gamma': 'scale', 'degree': 5, 'C': 10}\n",
      "Best Macro-F1 Score: 0.6371333386291709\n"
     ]
    }
   ],
   "source": [
    "from sklearn.svm import SVC\n",
    "\n",
    "# Example of defining the parameter grid\n",
    "param_grid = {\n",
    "    'C': [0.1, 1, 10, 100],  # Regularization parameter\n",
    "    'kernel': ['linear', 'rbf', 'poly'],  # Kernel types\n",
    "    'gamma': ['scale', 'auto'],  # Kernel coefficient\n",
    "    'degree': [3, 4, 5]  # Degree for polynomial kernel\n",
    "}\n",
    "\n",
    "# Define the SVM model (if not already defined)\n",
    "SVM_model = SVC()\n",
    "\n",
    "# Initialize the RandomizedSearchCV with the correct parameter grid\n",
    "random_search = RandomizedSearchCV(\n",
    "    SVM_model,\n",
    "    param_distributions=param_grid,\n",
    "    n_iter=20,  # Number of combinations to try\n",
    "    scoring='f1_macro',\n",
    "    cv=3,\n",
    "    verbose=1,\n",
    "    random_state=42,\n",
    "    n_jobs=-1  # Use all CPU cores\n",
    ")\n",
    "\n",
    "# Model fitting\n",
    "random_search.fit(X_train, y_train)\n",
    "\n",
    "# Best parameters and score\n",
    "print(\"Best Parameters:\", random_search.best_params_)\n",
    "print(\"Best Macro-F1 Score:\", random_search.best_score_)"
   ]
  },
  {
   "cell_type": "markdown",
   "id": "e3c28ded",
   "metadata": {},
   "source": [
    "# 6.1.Saving the Best Tuned Model using Joblib"
   ]
  },
  {
   "cell_type": "code",
   "execution_count": 10,
   "id": "08272a57",
   "metadata": {},
   "outputs": [
    {
     "name": "stdout",
     "output_type": "stream",
     "text": [
      "Best tuned model saved as 'Tuned_SVM_Model_RandomizedSearch.joblib'\n"
     ]
    }
   ],
   "source": [
    "joblib.dump(random_search.best_estimator_, 'Tuned_SVM_Model_RandomizedSearch.joblib')\n",
    "print(\"Best tuned model saved as 'Tuned_SVM_Model_RandomizedSearch.joblib'\")"
   ]
  },
  {
   "cell_type": "markdown",
   "id": "135b3e83",
   "metadata": {},
   "source": [
    "# 7.Loading the Tuned Model"
   ]
  },
  {
   "cell_type": "code",
   "execution_count": 11,
   "id": "dcf0395c",
   "metadata": {},
   "outputs": [],
   "source": [
    "tuned_model = joblib.load(r\"C:\\Users\\Lenovo\\project 4\\Tuned_SVM_Model_RandomizedSearch.joblib\")"
   ]
  },
  {
   "cell_type": "markdown",
   "id": "76a2d9e0",
   "metadata": {},
   "source": [
    "# 8.Evaluate on Validation Set"
   ]
  },
  {
   "cell_type": "code",
   "execution_count": 12,
   "id": "0155d849",
   "metadata": {},
   "outputs": [
    {
     "name": "stdout",
     "output_type": "stream",
     "text": [
      "Validation Set Classification Report:\n",
      "              precision    recall  f1-score   support\n",
      "\n",
      "          TP       0.69      0.82      0.75      3014\n",
      "          BP       0.63      0.45      0.53      1430\n",
      "          FP       0.73      0.67      0.70      2476\n",
      "\n",
      "    accuracy                           0.69      6920\n",
      "   macro avg       0.68      0.65      0.66      6920\n",
      "weighted avg       0.69      0.69      0.68      6920\n",
      "\n",
      "Macro-F1 Score (Validation): 0.6576224139008566\n",
      "Precision (Validation): 0.6802794863967948\n",
      "Recall (Validation): 0.6488417857078165\n"
     ]
    }
   ],
   "source": [
    "#predicting on the validation data\n",
    "val_predictions = tuned_model.predict(X_val)\n",
    "\n",
    "# Generate performance metrics\n",
    "print(\"Validation Set Classification Report:\")\n",
    "print(classification_report(y_val, val_predictions, target_names=['TP', 'BP', 'FP']))\n",
    "\n",
    "#calculating individual metrics\n",
    "macro_f1 = f1_score(y_val, val_predictions, average='macro')\n",
    "precision = precision_score(y_val, val_predictions, average='macro')\n",
    "recall = recall_score(y_val, val_predictions, average='macro')\n",
    "\n",
    "print(f\"Macro-F1 Score (Validation): {macro_f1}\")\n",
    "print(f\"Precision (Validation): {precision}\")\n",
    "print(f\"Recall (Validation): {recall}\")"
   ]
  },
  {
   "cell_type": "markdown",
   "id": "2e4b73db",
   "metadata": {},
   "source": [
    "# 9.Final Evaluation on Test Set"
   ]
  },
  {
   "cell_type": "code",
   "execution_count": 13,
   "id": "d217282d",
   "metadata": {
    "scrolled": true
   },
   "outputs": [
    {
     "name": "stdout",
     "output_type": "stream",
     "text": [
      "Test Set Classification Report:\n",
      "              precision    recall  f1-score   support\n",
      "\n",
      "          TP       0.67      0.80      0.73     14874\n",
      "          BP       0.54      0.40      0.46      6630\n",
      "          FP       0.71      0.65      0.68     12990\n",
      "\n",
      "    accuracy                           0.67     34494\n",
      "   macro avg       0.64      0.61      0.62     34494\n",
      "weighted avg       0.66      0.67      0.66     34494\n",
      "\n",
      "Macro-F1 Score (Test): 0.6211796039888307\n",
      "Precision (Test): 0.6394621297730483\n",
      "Recall (Test): 0.6147857455515605\n"
     ]
    }
   ],
   "source": [
    "#now predicting with the test data\n",
    "test_predictions = tuned_model.predict(X_test)\n",
    "\n",
    "#generate performance metrics\n",
    "print(\"Test Set Classification Report:\")\n",
    "print(classification_report(y_test, test_predictions, target_names=['TP', 'BP', 'FP']))\n",
    "\n",
    "# Calculate individual metrics\n",
    "macro_f1_test = f1_score(y_test, test_predictions, average='macro')\n",
    "precision_test = precision_score(y_test, test_predictions, average='macro')\n",
    "recall_test = recall_score(y_test, test_predictions, average='macro')\n",
    "\n",
    "print(f\"Macro-F1 Score (Test): {macro_f1_test}\")\n",
    "print(f\"Precision (Test): {precision_test}\")\n",
    "print(f\"Recall (Test): {recall_test}\")"
   ]
  }
 ],
 "metadata": {
  "kernelspec": {
   "display_name": "Python 3 (ipykernel)",
   "language": "python",
   "name": "python3"
  },
  "language_info": {
   "codemirror_mode": {
    "name": "ipython",
    "version": 3
   },
   "file_extension": ".py",
   "mimetype": "text/x-python",
   "name": "python",
   "nbconvert_exporter": "python",
   "pygments_lexer": "ipython3",
   "version": "3.9.12"
  }
 },
 "nbformat": 4,
 "nbformat_minor": 5
}
