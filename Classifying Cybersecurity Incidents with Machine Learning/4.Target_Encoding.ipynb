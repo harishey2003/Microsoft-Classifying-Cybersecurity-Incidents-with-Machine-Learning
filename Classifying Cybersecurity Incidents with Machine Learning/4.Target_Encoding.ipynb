{
 "cells": [
  {
   "cell_type": "code",
   "execution_count": 1,
   "id": "e4d66548",
   "metadata": {},
   "outputs": [],
   "source": [
    "import joblib\n",
    "import pandas as pd\n",
    "from sklearn.preprocessing import LabelEncoder"
   ]
  },
  {
   "cell_type": "markdown",
   "id": "a14ecc84",
   "metadata": {},
   "source": [
    "# Aligning Test Dataset Columns with Train Data"
   ]
  },
  {
   "cell_type": "code",
   "execution_count": 2,
   "id": "4b803cf4",
   "metadata": {},
   "outputs": [],
   "source": [
    "test_data = joblib.load(r\"C:\\Users\\Lenovo\\project 4\\Encoded_Test_Data.joblib\")"
   ]
  },
  {
   "cell_type": "code",
   "execution_count": 3,
   "id": "86d3353c",
   "metadata": {},
   "outputs": [],
   "source": [
    "train_data = joblib.load(r\"C:\\Users\\Lenovo\\project 4\\Encoded_Train_Data.joblib\")"
   ]
  },
  {
   "cell_type": "code",
   "execution_count": 4,
   "id": "61547fa9",
   "metadata": {},
   "outputs": [
    {
     "data": {
      "text/plain": [
       "(34494, 77)"
      ]
     },
     "execution_count": 4,
     "metadata": {},
     "output_type": "execute_result"
    }
   ],
   "source": [
    "test_data.shape"
   ]
  },
  {
   "cell_type": "code",
   "execution_count": 5,
   "id": "e1cc3ee9",
   "metadata": {},
   "outputs": [
    {
     "data": {
      "text/plain": [
       "(34600, 80)"
      ]
     },
     "execution_count": 5,
     "metadata": {},
     "output_type": "execute_result"
    }
   ],
   "source": [
    "train_data.shape"
   ]
  },
  {
   "cell_type": "code",
   "execution_count": 6,
   "id": "57df5bc9",
   "metadata": {},
   "outputs": [
    {
     "name": "stdout",
     "output_type": "stream",
     "text": [
      "(34600, 80)\n",
      "(34494, 77)\n"
     ]
    }
   ],
   "source": [
    "print(train_data.shape)\n",
    "print(test_data.shape)"
   ]
  },
  {
   "cell_type": "markdown",
   "id": "ff79e02d",
   "metadata": {},
   "source": [
    "Test datasets are aligned in terms of their columns from Train datasets"
   ]
  },
  {
   "cell_type": "code",
   "execution_count": 7,
   "id": "d6066f28",
   "metadata": {},
   "outputs": [],
   "source": [
    "train_data, test_data = train_data.align(test_data, join='left', axis=1)\n",
    "test_data.fillna(0, inplace=True)"
   ]
  },
  {
   "cell_type": "code",
   "execution_count": 8,
   "id": "c6fbea71",
   "metadata": {},
   "outputs": [
    {
     "data": {
      "text/plain": [
       "(34494, 80)"
      ]
     },
     "execution_count": 8,
     "metadata": {},
     "output_type": "execute_result"
    }
   ],
   "source": [
    "test_data.shape"
   ]
  },
  {
   "cell_type": "code",
   "execution_count": 9,
   "id": "7ef26ca5",
   "metadata": {},
   "outputs": [],
   "source": [
    "test_data = test_data.reset_index(drop=True)"
   ]
  },
  {
   "cell_type": "code",
   "execution_count": 10,
   "id": "2eb6517a",
   "metadata": {},
   "outputs": [
    {
     "name": "stdout",
     "output_type": "stream",
     "text": [
      "(34600, 80)\n",
      "(34494, 80)\n"
     ]
    }
   ],
   "source": [
    "print(train_data.shape)\n",
    "print(test_data.shape)"
   ]
  },
  {
   "cell_type": "markdown",
   "id": "12ce68ad",
   "metadata": {},
   "source": [
    "# Target Encoding"
   ]
  },
  {
   "cell_type": "code",
   "execution_count": 11,
   "id": "4d290896",
   "metadata": {},
   "outputs": [
    {
     "data": {
      "text/plain": [
       "array(['FalsePositive', 'BenignPositive', 'TruePositive'], dtype=object)"
      ]
     },
     "execution_count": 11,
     "metadata": {},
     "output_type": "execute_result"
    }
   ],
   "source": [
    "a=test_data['IncidentGrade'].unique()\n",
    "b=train_data['IncidentGrade'].unique()\n",
    "a"
   ]
  },
  {
   "cell_type": "code",
   "execution_count": 12,
   "id": "2000d30c",
   "metadata": {},
   "outputs": [
    {
     "data": {
      "text/plain": [
       "array(['BenignPositive', 'TruePositive', 'FalsePositive'], dtype=object)"
      ]
     },
     "execution_count": 12,
     "metadata": {},
     "output_type": "execute_result"
    }
   ],
   "source": [
    "b"
   ]
  },
  {
   "cell_type": "markdown",
   "id": "42b9f301",
   "metadata": {},
   "source": [
    "# Unified Label Encoding: Combining, Fitting, and Transforming Labels in the Target Data"
   ]
  },
  {
   "cell_type": "code",
   "execution_count": 13,
   "id": "11bb9f9b",
   "metadata": {},
   "outputs": [
    {
     "name": "stdout",
     "output_type": "stream",
     "text": [
      "Train encoded labels: [0 2 1]\n",
      "Test encoded labels: [1 0 2]\n",
      "Label mapping: {'BenignPositive': 0, 'FalsePositive': 1, 'TruePositive': 2}\n"
     ]
    }
   ],
   "source": [
    "#combining the unique labels from both datasets\n",
    "all_labels = list(set(train_data['IncidentGrade']).union(set(test_data['IncidentGrade'])))\n",
    "\n",
    "#fiting the LabelEncoder on the combined labels\n",
    "le = LabelEncoder()\n",
    "le.fit(all_labels)\n",
    "\n",
    "#transforming the labels\n",
    "train_data['IncidentGrade'] = le.transform(train_data['IncidentGrade'])\n",
    "test_data['IncidentGrade'] = le.transform(test_data['IncidentGrade'])\n",
    "\n",
    "print(\"Train encoded labels:\", train_data['IncidentGrade'].unique())\n",
    "print(\"Test encoded labels:\", test_data['IncidentGrade'].unique())\n",
    "print(\"Label mapping:\", dict(zip(le.classes_, le.transform(le.classes_))))"
   ]
  },
  {
   "cell_type": "markdown",
   "id": "08bdf4dc",
   "metadata": {},
   "source": [
    "# Saving the Train & Test data using Joblib"
   ]
  },
  {
   "cell_type": "code",
   "execution_count": 15,
   "id": "512f62e7",
   "metadata": {},
   "outputs": [
    {
     "data": {
      "text/plain": [
       "['C:\\\\Users\\\\Lenovo\\\\project 4\\\\Encoded_Test_Data.joblib']"
      ]
     },
     "execution_count": 15,
     "metadata": {},
     "output_type": "execute_result"
    }
   ],
   "source": [
    "joblib.dump(test_data, r\"C:\\Users\\Lenovo\\project 4\\Encoded_Test_Data.joblib\")"
   ]
  },
  {
   "cell_type": "code",
   "execution_count": 16,
   "id": "1ca98e6c",
   "metadata": {},
   "outputs": [
    {
     "data": {
      "text/plain": [
       "['C:\\\\Users\\\\Lenovo\\\\project 4\\\\Encoded_Train_Data.joblib']"
      ]
     },
     "execution_count": 16,
     "metadata": {},
     "output_type": "execute_result"
    }
   ],
   "source": [
    "joblib.dump(train_data, r\"C:\\Users\\Lenovo\\project 4\\Encoded_Train_Data.joblib\")"
   ]
  }
 ],
 "metadata": {
  "kernelspec": {
   "display_name": "Python 3 (ipykernel)",
   "language": "python",
   "name": "python3"
  },
  "language_info": {
   "codemirror_mode": {
    "name": "ipython",
    "version": 3
   },
   "file_extension": ".py",
   "mimetype": "text/x-python",
   "name": "python",
   "nbconvert_exporter": "python",
   "pygments_lexer": "ipython3",
   "version": "3.9.12"
  }
 },
 "nbformat": 4,
 "nbformat_minor": 5
}
